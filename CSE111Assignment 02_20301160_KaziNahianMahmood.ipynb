{
 "cells": [
  {
   "cell_type": "code",
   "execution_count": 9,
   "metadata": {},
   "outputs": [
    {
     "name": "stdout",
     "output_type": "stream",
     "text": [
      "0\n"
     ]
    }
   ],
   "source": [
    "#TASK 1\n",
    "def my_function(num1,num2):\n",
    "    if num2 == 0:\n",
    "        return 0\n",
    "\n",
    "    return (num1/num2)-(num1//num2)\n",
    "\n",
    "print(my_function(0,5))\n"
   ]
  },
  {
   "cell_type": "code",
   "execution_count": 5,
   "metadata": {},
   "outputs": [
    {
     "name": "stdout",
     "output_type": "stream",
     "text": [
      "Score is 21.38593635289987 You are Normal\n"
     ]
    }
   ],
   "source": [
    "#TASK 2\n",
    "def bmi_score(height,weight):\n",
    "    height = (height/100)**2\n",
    "    bmi = weight/height\n",
    "    if bmi < 18.5 :\n",
    "        print(\"Score is\",bmi,\"You are Underweight\")\n",
    "    if bmi >= 18.5 and bmi <= 24.9:\n",
    "        print(\"Score is\",bmi,\"You are Normal\")\n",
    "    if bmi >= 25 and bmi <= 30:\n",
    "        print(\"Score is\",bmi,\"You are Overweight\")\n",
    "    if bmi > 30:\n",
    "        print(\"Score is\",bmi,\"You are Obese\")\n",
    "bmi_score(177,67)\n"
   ]
  },
  {
   "cell_type": "code",
   "execution_count": 8,
   "metadata": {},
   "outputs": [
    {
     "name": "stdout",
     "output_type": "stream",
     "text": [
      "450\n"
     ]
    }
   ],
   "source": [
    "#TASK 3\n",
    "def function(minimum,maximum,divisor):\n",
    "    total = 0\n",
    "    for x in range(minimum,maximum):\n",
    "        if x % divisor == 0:\n",
    "            total = total + x\n",
    "    return total\n",
    "print(function(1,100,10))\n"
   ]
  },
  {
   "cell_type": "code",
   "execution_count": 7,
   "metadata": {},
   "outputs": [
    {
     "name": "stdout",
     "output_type": "stream",
     "text": [
      "276.0\n"
     ]
    }
   ],
   "source": [
    "#TASK 4\n",
    "def order(burger,place=\"Mohakhali\"):\n",
    "    if place == \"Mohakhali\":\n",
    "        delivery_charge = 40\n",
    "    else:\n",
    "        delivery_charge = 60\n",
    "    if burger == \"BBQ Chicken Cheese Burger\":\n",
    "        meal_cost = 250\n",
    "    elif burger == \"Beef Burger\":\n",
    "        meal_cost = 170\n",
    "    elif burger == \"Naga Drums\":\n",
    "        meal_cost = 200\n",
    "    tax =meal_cost*(8/100)\n",
    "    total_price=meal_cost+delivery_charge+tax\n",
    "    print(total_price)\n",
    "order(\"Naga Drums\",\"Banani\")"
   ]
  },
  {
   "cell_type": "code",
   "execution_count": 4,
   "metadata": {},
   "outputs": [
    {
     "name": "stdout",
     "output_type": "stream",
     "text": [
      "Unchanged:bob@sheba.xyz\n"
     ]
    }
   ],
   "source": [
    "#TASK 5\n",
    "def check(email,new_domain,old_domain=\"kaaj.com\"):\n",
    "    if old_domain in email:\n",
    "        index = email.index(\"@\")\n",
    "        final_mail = \"Changed:\" + email[:index + 1:] + new_domain\n",
    "    else:\n",
    "        final_mail = \"Unchanged:\" + email\n",
    "    print(final_mail)\n",
    "check(\"bob@sheba.xyz\",\"sheba.xyz\")\n"
   ]
  },
  {
   "cell_type": "code",
   "execution_count": 2,
   "metadata": {},
   "outputs": [
    {
     "name": "stdout",
     "output_type": "stream",
     "text": [
      "Vowels: U,i,a,I,a,i Total number of vowels: 6\n"
     ]
    }
   ],
   "source": [
    "#TASK 6\n",
    "def find_vowels(full_name):\n",
    "    count = 0\n",
    "    vowels = \"\"\n",
    "    string = ['A','E','I','O','U','a','e','i','o','u']\n",
    "    for char in full_name:\n",
    "        if char in string:\n",
    "            count += 1\n",
    "            vowels += char + \",\"\n",
    "    print(\"Vowels:\",vowels[0:-1],\"Total number of vowels:\",count)\n",
    "find_vowels(\"Uchiha Itachi\")\n"
   ]
  },
  {
   "cell_type": "code",
   "execution_count": 12,
   "metadata": {},
   "outputs": [
    {
     "name": "stdout",
     "output_type": "stream",
     "text": [
      "Palindrome\n"
     ]
    }
   ],
   "source": [
    "#TASK 7\n",
    "def palindrome(string):\n",
    "    string = string.replace(\" \",\"\")\n",
    "    if string == string[::-1]:\n",
    "        print(\"Palindrome\")\n",
    "    else:\n",
    "        print(\"Not a palindrome\")\n",
    "palindrome(\"nurses run\")"
   ]
  },
  {
   "cell_type": "code",
   "execution_count": 13,
   "metadata": {},
   "outputs": [
    {
     "name": "stdout",
     "output_type": "stream",
     "text": [
      "Enter a number:4000\n",
      "10 years 11 months 20 days\n"
     ]
    }
   ],
   "source": [
    "#TASK 8\n",
    "def my_function(days):\n",
    "    years = days//365\n",
    "    months = (days%365)//30\n",
    "    days = (days%365)%30\n",
    "    print(years,\"years\",months,\"months\",days,\"days\")\n",
    "my_function(int(input(\"Enter a number:\")))"
   ]
  },
  {
   "cell_type": "code",
   "execution_count": 1,
   "metadata": {},
   "outputs": [
    {
     "name": "stdout",
     "output_type": "stream",
     "text": [
      "Enter a sentence:my favourite animal is a dog. a dog has sharp teeth so that it can eat flesh very easily. do you know my pet dog’s name? i love my pet very much.\n",
      "My favourite animal is a dog. A dog has sharp teeth so that it can eat flesh very easily. Do you know my pet dog’s name? I love my pet very much.\n"
     ]
    }
   ],
   "source": [
    "#TASK 9\n",
    "def capitalize(sentence):\n",
    "    length = len(sentence)\n",
    "    new = \"\"\n",
    "    alphabet1 = sentence[0].upper()\n",
    "    new += alphabet1\n",
    "    for count in range(1,length):\n",
    "        if (sentence[count - 2] == \".\" or sentence[count - 2] == \"!\" or sentence[count - 2] == \"?\") and sentence[count-1]==\" \":\n",
    "            word = sentence[count].upper()\n",
    "            new += word\n",
    "        elif sentence[count] == 'i' and sentence[count - 1] == \" \" and sentence[count + 1] == ' ':\n",
    "            word = sentence[count].upper()\n",
    "            new += word\n",
    "        else:\n",
    "            new += sentence[count]\n",
    "    return new\n",
    "sentence = input(\"Enter a sentence:\")\n",
    "print(capitalize(sentence))"
   ]
  },
  {
   "cell_type": "code",
   "execution_count": null,
   "metadata": {},
   "outputs": [],
   "source": []
  }
 ],
 "metadata": {
  "kernelspec": {
   "display_name": "Python 3",
   "language": "python",
   "name": "python3"
  },
  "language_info": {
   "codemirror_mode": {
    "name": "ipython",
    "version": 3
   },
   "file_extension": ".py",
   "mimetype": "text/x-python",
   "name": "python",
   "nbconvert_exporter": "python",
   "pygments_lexer": "ipython3",
   "version": "3.7.6"
  }
 },
 "nbformat": 4,
 "nbformat_minor": 4
}
