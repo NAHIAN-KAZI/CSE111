{
 "cells": [
  {
   "cell_type": "code",
   "execution_count": 1,
   "metadata": {},
   "outputs": [
    {
     "name": "stdout",
     "output_type": "stream",
     "text": [
      "Enter a word:BUilDeR\n",
      "BUILDER\n"
     ]
    }
   ],
   "source": [
    "#STRING PROBLEMS\n",
    "#TASK 1\n",
    "input_string = input(\"Enter a word:\")\n",
    "upper = 0\n",
    "lower = 0\n",
    "for i in range(len(input_string)):\n",
    "    if input_string[i].isupper():\n",
    "        upper += 1\n",
    "    if input_string[i].islower():\n",
    "        lower += 1\n",
    "for y in range(len(input_string)):\n",
    "    if upper > lower:\n",
    "        print(input_string.upper())\n",
    "        break\n",
    "    elif lower >= upper:\n",
    "        print(input_string.lower())\n",
    "        break"
   ]
  },
  {
   "cell_type": "code",
   "execution_count": 2,
   "metadata": {},
   "outputs": [
    {
     "name": "stdout",
     "output_type": "stream",
     "text": [
      "Enter a string:123ttgegr\n",
      "Mixed\n"
     ]
    }
   ],
   "source": [
    "#TASK 2\n",
    "\n",
    "\n",
    "string = input(\"Enter a string:\")\n",
    "is_number = True\n",
    "is_word = True\n",
    "for i in range(len(string)):\n",
    "    if ord(string[i])>=48 and ord(string[i])<=57:\n",
    "        is_word = False\n",
    "    if ord(string[i])>=65 and ord(string[i])<=90 or ord(string[i])>=97 and ord(string[i])<=122:\n",
    "        is_number = False\n",
    "if is_number == True:\n",
    "    print(\"Number\")\n",
    "elif is_word == True:\n",
    "    print(\"Word\")\n",
    "else:\n",
    "    print(\"Mixed\")\n",
    "        "
   ]
  },
  {
   "cell_type": "code",
   "execution_count": 2,
   "metadata": {},
   "outputs": [
    {
     "name": "stdout",
     "output_type": "stream",
     "text": [
      "Enter a word: blANk\n",
      "BLANK\n"
     ]
    }
   ],
   "source": [
    "#TASK 3\n",
    "a_str = input(\"Enter a word: \")\n",
    "index_list= []\n",
    "for i in a_str:\n",
    "    if i.isupper():\n",
    "        index_list.append(a_str.index(i))\n",
    "        #print(index_list)\n",
    "if index_list[1]-index_list[0] != 1:\n",
    "    print(a_str[index_list[0]+1:index_list[1]])\n",
    "else:\n",
    "    print(\"BLANK\")"
   ]
  },
  {
   "cell_type": "code",
   "execution_count": 4,
   "metadata": {},
   "outputs": [
    {
     "name": "stdout",
     "output_type": "stream",
     "text": [
      "The book is not excellent!\n"
     ]
    }
   ],
   "source": [
    "#TASK 4\n",
    "def sentence(string):\n",
    "  word1 = string.find('too')\n",
    "  word2 = string.find('good')\n",
    "  \n",
    "\n",
    "  if word2 > word1 and word1>0 and word2>0:\n",
    "    string = string.replace(string[word1:(word2+4)], 'excellent')\n",
    "    return string\n",
    "  else:\n",
    "    return string\n",
    "print(sentence('The book is not too good!'))"
   ]
  },
  {
   "cell_type": "code",
   "execution_count": 5,
   "metadata": {},
   "outputs": [
    {
     "name": "stdout",
     "output_type": "stream",
     "text": [
      "Enter a word:harry\n",
      "Enter a word:hagrid\n",
      "harrhar\n"
     ]
    }
   ],
   "source": [
    "#TASK 5\n",
    "str1 = input(\"Enter a word:\")\n",
    "str2 = input(\"Enter a word:\")\n",
    "common_char = \"\"\n",
    "for i in str1:\n",
    "    if i in str2:\n",
    "        common_char = common_char+i\n",
    "for i in str2:\n",
    "    if i in str1:\n",
    "        common_char = common_char+i\n",
    "if len(common_char)>0:\n",
    "    print(common_char)\n",
    "else:\n",
    "    print(\"Nothing in common\")"
   ]
  },
  {
   "cell_type": "code",
   "execution_count": 6,
   "metadata": {},
   "outputs": [
    {
     "name": "stdout",
     "output_type": "stream",
     "text": [
      "Enter your new password: ohmybracu\n",
      "Uppercase character missing\n",
      "Digit missing\n",
      "Special character missing\n"
     ]
    }
   ],
   "source": [
    "#TASK 6\n",
    "password =input(\"Enter your new password: \")\n",
    "special=[\" \",\"@\",\"#\",\"$\",\"%\"]\n",
    "number= [\"0\",\"1\",\"2\",\"3\",\"4\",\"5\",\"6\",\"7\",\"8\",\"9\"]\n",
    "upper_case= False\n",
    "lower_case= False\n",
    "nums= False\n",
    "special_char= False\n",
    "for char in password:\n",
    "    if ord(char) in range(65,91):\n",
    "        upper_case= True\n",
    "    if ord(char) in range(97,123):\n",
    "        lower_case= True\n",
    "    if char in number:\n",
    "        nums= True\n",
    "    if char in special:\n",
    "        special_char= True\n",
    "if upper_case==False:\n",
    "    print(\"Uppercase character missing\")\n",
    "if lower_case==False:\n",
    "    print(\"Lowercase character missing\")\n",
    "if nums==False:\n",
    "    print(\"Digit missing\")\n",
    "if special_char==False:\n",
    "    print(\"Special character missing\")\n",
    "if upper_case==True and lower_case==True and nums==True and special_char==True:\n",
    "    print(\"OK\")\n"
   ]
  },
  {
   "cell_type": "code",
   "execution_count": 7,
   "metadata": {},
   "outputs": [
    {
     "name": "stdout",
     "output_type": "stream",
     "text": [
      "Enter a number:100\n",
      "Enter a number:100\n",
      "Enter a number:100\n",
      "Enter a number:60\n",
      "Enter a number:20\n",
      "Enter a number:20\n",
      "Enter a number:70\n",
      "Enter a number:90\n",
      "Enter a number:90\n",
      "Enter a number:70\n",
      "Enter a number:Stop\n",
      "100 - 3 Times\n",
      "60 - 1 Times\n",
      "20 - 2 Times\n",
      "70 - 2 Times\n",
      "90 - 2 Times\n"
     ]
    }
   ],
   "source": [
    "#LIST PROBLEMS\n",
    "#TASK 1\n",
    "lst1 = []\n",
    "while True:\n",
    "    number = input(\"Enter a number:\")\n",
    "    if number == \"Stop\":\n",
    "        break\n",
    "    else:\n",
    "        number=int(number)\n",
    "        lst1.append(number)\n",
    "lst2 = []\n",
    "for i in lst1:\n",
    "    if i not in lst2:\n",
    "        lst2.append(i)\n",
    "for i in lst2:\n",
    "    count = 0\n",
    "    for j in lst1:\n",
    "\n",
    "        if i == j:\n",
    "            count += 1\n",
    "    print(i, \"-\", count, \"Times\")"
   ]
  },
  {
   "cell_type": "code",
   "execution_count": 8,
   "metadata": {},
   "outputs": [
    {
     "name": "stdout",
     "output_type": "stream",
     "text": [
      "Enter how many lists:3\n",
      "10 11 23\n",
      "13 9 08\n",
      "22 22 3\n",
      "47\n",
      "[22, 22, 3]\n"
     ]
    }
   ],
   "source": [
    "#TASK 2\n",
    "number = int(input(\"Enter how many lists:\"))\n",
    "highest_sum= 0\n",
    "list1 = []\n",
    "for i in range(number):\n",
    "    new = input().split()\n",
    "    new_list = []\n",
    "    for i in new:\n",
    "        new_list.append(int(i))\n",
    "    total = sum(new_list)\n",
    "    if total > highest_sum:\n",
    "        highest_sum = total\n",
    "        list1 = new_list\n",
    "print(highest_sum)\n",
    "print(list1)\n"
   ]
  },
  {
   "cell_type": "code",
   "execution_count": 9,
   "metadata": {},
   "outputs": [
    {
     "name": "stdout",
     "output_type": "stream",
     "text": [
      "[6, 8, 10, 9, 12, 15, 18, 24, 30]\n"
     ]
    }
   ],
   "source": [
    "#TASK 3\n",
    "list1 = [2,3,6]\n",
    "list2 = [3,4,5]\n",
    "new = []\n",
    "for i in list1:\n",
    "    for x in list2:\n",
    "        new.append(i*x)\n",
    "print(new)"
   ]
  },
  {
   "cell_type": "code",
   "execution_count": 1,
   "metadata": {},
   "outputs": [
    {
     "name": "stdout",
     "output_type": "stream",
     "text": [
      "Enter data:1 4 3 2\n",
      "Enter data:1 4 2 -1 6\n",
      "Enter data:STOP\n",
      "UB Jumper\n",
      "Not UB Jumper\n"
     ]
    }
   ],
   "source": [
    "#TASK 4\n",
    "inp=0\n",
    "list=[]\n",
    "while(inp!=\"STOP\"):\n",
    "    inp=input(\"Enter data:\")\n",
    "    list.append(inp.split())\n",
    "list=list[:len(list)-1]\n",
    "for i in range(len(list)):\n",
    "    for j in range(1,len(list[i])):\n",
    "        if(abs(int(list[i][j])-int(list[i][j-1]))>len(list[i])-1):\n",
    "            list[i]= False\n",
    "            break\n",
    "    if (list[i]!=False):\n",
    "        list[i]=True\n",
    "for i in range(len(list)):\n",
    "    if (list[i]):\n",
    "        print(\"UB Jumper\")\n",
    "    else:\n",
    "        print(\"Not UB Jumper\")\n"
   ]
  },
  {
   "cell_type": "code",
   "execution_count": 3,
   "metadata": {},
   "outputs": [
    {
     "name": "stdout",
     "output_type": "stream",
     "text": [
      "Enter a string: Bracu123456789\n",
      "acruB135792468"
     ]
    }
   ],
   "source": [
    "#TASK 5\n",
    "inp = input(\"Enter a string: \")\n",
    "lower_case = []\n",
    "upper_case = []\n",
    "num = []\n",
    "odd = []\n",
    "even = []\n",
    "alph_upper = \"ABCDEFGHIJKLMNOPQRSTUVWXYZ\"\n",
    "alph_lower = \"abcdefghijklmnopqrstuvwxyz\"\n",
    "nums = \"1234567890\"\n",
    "for i in inp:\n",
    "    if i in alph_lower:\n",
    "        lower_case.append(i)\n",
    "        lower_case.sort()\n",
    "    if i in alph_upper:\n",
    "        upper_case.append(i)\n",
    "        upper_case.sort()\n",
    "    if i in nums:\n",
    "        num.append(i)\n",
    "for j in num:\n",
    "    if int(j) % 2 == 0:\n",
    "        even.append(j)\n",
    "        even.sort()\n",
    "    else:\n",
    "        odd.append(j)\n",
    "        odd.sort()\n",
    "product = lower_case + upper_case + odd + even\n",
    "for i in product :\n",
    "    print(i, end=\"\")\n"
   ]
  },
  {
   "cell_type": "code",
   "execution_count": 7,
   "metadata": {},
   "outputs": [
    {
     "name": "stdout",
     "output_type": "stream",
     "text": [
      "Enter number of participation: 1 2 0\n",
      "Enter number of participation: 2 3\n",
      "0\n"
     ]
    }
   ],
   "source": [
    "#TASK 6\n",
    "list1 = []\n",
    "count1 = input(\"Enter number of participation: \").split(\" \")\n",
    "for i in count1:\n",
    "    list1.append(int(i))\n",
    "list2 = []\n",
    "count2 = input(\"Enter number of participation: \").split(\" \")\n",
    "for i in count2:\n",
    "    list2.append(int(i))\n",
    "list3 = []\n",
    "for i in list2:\n",
    "    if(5 - i) > (list1[1]-1):\n",
    "        list3.append(i)\n",
    "team = len(list3) // 3\n",
    "print(team)\n",
    "\n",
    "\n"
   ]
  },
  {
   "cell_type": "code",
   "execution_count": 1,
   "metadata": {},
   "outputs": [
    {
     "name": "stdout",
     "output_type": "stream",
     "text": [
      "{'a': 400, 'b': 300, 'c': 200, 'd': 700, 'e': 200}\n",
      "(200, 300, 400, 700)\n"
     ]
    }
   ],
   "source": [
    "#DICTIONARY AND TUPLE PROBLEMS\n",
    "#TASK 1\n",
    "dict1 = {'a': 100, 'b':100, 'c':200,'d':300}\n",
    "dict2 = {'a': 300, 'b':200, 'd':400, 'e':200}\n",
    "dict3 = {}\n",
    "dict3.update(dict1)\n",
    "for key in dict2:\n",
    "    if key in dict3:\n",
    "        dict3[key]=dict2[key]+dict3[key]\n",
    "    else:\n",
    "        dict3[key]=dict2[key]\n",
    "new1=dict3.values()\n",
    "new2=list(new1)\n",
    "new_list=[]\n",
    "for x in range(len(new2)):\n",
    "    if new2[x] not in new_list:\n",
    "        new_list.append(new2[x])\n",
    "print(dict3)\n",
    "print(tuple(sorted(new_list)))"
   ]
  },
  {
   "cell_type": "code",
   "execution_count": 2,
   "metadata": {},
   "outputs": [
    {
     "name": "stdout",
     "output_type": "stream",
     "text": [
      "Enter :1\n",
      "Enter :1\n",
      "Enter :1\n",
      "Enter :2\n",
      "Enter :2\n",
      "Enter :3\n",
      "Enter :3\n",
      "Enter :\n",
      "Enter :STOP\n",
      "1\n",
      "1\n",
      "1\n",
      "2\n",
      "2\n",
      "3\n",
      "3\n",
      "\n",
      "1 - 3 Times\n",
      "2 - 2 Times\n",
      "3 - 2 Times\n",
      " - 1 Times\n"
     ]
    }
   ],
   "source": [
    "#TASK 2\n",
    "dict = {}\n",
    "count = 0\n",
    "list = []\n",
    "while True:\n",
    "    inp = input(\"Enter :\")\n",
    "    if inp == \"STOP\":\n",
    "        break\n",
    "    else:\n",
    "        list.append(inp)\n",
    "    count += 1\n",
    "for a in range(count):\n",
    "    value = 0\n",
    "    key = list[a]\n",
    "    if key not in dict:\n",
    "        value+=1\n",
    "        dict[key]=1\n",
    "    else:\n",
    "        dict[key]+=1\n",
    "for key, value in dict.items():\n",
    "    print(key, '-', value, \"Times\")"
   ]
  },
  {
   "cell_type": "code",
   "execution_count": 4,
   "metadata": {},
   "outputs": [
    {
     "name": "stdout",
     "output_type": "stream",
     "text": [
      "{'value1': ['key1', 'key3'], 'value2': ['key2'], 'value3': ['key4']}\n"
     ]
    }
   ],
   "source": [
    "#TASK 3\n",
    "inp = {'key1' : 'value1', 'key2' : 'value2', 'key3' : 'value1', 'key4' : 'value3'}\n",
    "dictionary = {}\n",
    "for value , key in inp.items():\n",
    "    if key in dictionary:\n",
    "        dictionary[key].append(value)\n",
    "    else:\n",
    "        dictionary[key]=[value]\n",
    "print(dictionary)\n",
    "\n"
   ]
  },
  {
   "cell_type": "code",
   "execution_count": 10,
   "metadata": {},
   "outputs": [
    {
     "name": "stdout",
     "output_type": "stream",
     "text": [
      "Enter a word:Baal\n",
      "Enter another word:saal\n",
      "{'B': 1, 'a': 2, 'l': 1}\n",
      "{'s': 1, 'a': 2, 'l': 1}\n",
      "NOT ANAGRAMS\n"
     ]
    }
   ],
   "source": [
    "#TASK 4\n",
    "string1 = input(\"Enter a word:\")\n",
    "string2 = input(\"Enter another word:\")\n",
    "dict1 = {}\n",
    "dict2 = {}\n",
    "for x in string1:\n",
    "    if x in dict1:\n",
    "        dict1[x] += 1\n",
    "    else:\n",
    "        dict1[x] = 1\n",
    "print(dict1)\n",
    "for x in string2:\n",
    "    if x in dict2:\n",
    "        dict2[x] += 1\n",
    "    else:\n",
    "        dict2[x] = 1\n",
    "print(dict2)\n",
    "ans = True\n",
    "for key, value in dict1.items():\n",
    "    if key in dict2 and value == dict2[key]:\n",
    "        ans = True\n",
    "    else:\n",
    "        ans = False\n",
    "        break\n",
    "if ans == False:\n",
    "    print(\"NOT ANAGRAMS\")\n",
    "else:\n",
    "    print(\"ANAGRAMS\")"
   ]
  },
  {
   "cell_type": "code",
   "execution_count": 11,
   "metadata": {},
   "outputs": [
    {
     "name": "stdout",
     "output_type": "stream",
     "text": [
      "Enter anything:Hello, World!\n",
      "4433555555666110966677755531111\n"
     ]
    }
   ],
   "source": [
    "#TASK 5\n",
    "dict={'1':'.,?!:','2':'ABC','3':'DEF','4':'GHI','5':'JKL','6':'MNO','7':'PQRS','8':'TUV','9':'WXYZ','0':' '}\n",
    "user_input=input(\"Enter anything:\")\n",
    "Capital=user_input.upper()\n",
    "new_string=\"\"\n",
    "for index in range(0,len(Capital)):\n",
    "    for key,value in dict.items():\n",
    "        if Capital[index] in value:\n",
    "            for x in range(1,value.find(Capital[index])+2):\n",
    "                new_string+=key\n",
    "print(new_string)"
   ]
  },
  {
   "cell_type": "code",
   "execution_count": null,
   "metadata": {},
   "outputs": [],
   "source": []
  }
 ],
 "metadata": {
  "kernelspec": {
   "display_name": "Python 3",
   "language": "python",
   "name": "python3"
  },
  "language_info": {
   "codemirror_mode": {
    "name": "ipython",
    "version": 3
   },
   "file_extension": ".py",
   "mimetype": "text/x-python",
   "name": "python",
   "nbconvert_exporter": "python",
   "pygments_lexer": "ipython3",
   "version": "3.7.6"
  }
 },
 "nbformat": 4,
 "nbformat_minor": 4
}
