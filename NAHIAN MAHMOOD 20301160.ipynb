{
 "cells": [
  {
   "cell_type": "code",
   "execution_count": 7,
   "metadata": {},
   "outputs": [
    {
     "name": "stdout",
     "output_type": "stream",
     "text": [
      "Enter:WE LOVE PROGRAMMING\n",
      "{'Vowel': ['E', 'O', 'A', 'I'], 'Consonant': ['W', 'L', 'V', 'P', 'R', 'G', 'M', 'N']}\n"
     ]
    }
   ],
   "source": [
    "string=input(\"Enter:\").upper()\n",
    "ord_list=[65,69,73,79,85]\n",
    "dictionary={\"Vowel\": [],\"Consonant\": []}\n",
    "\n",
    "\n",
    "for i in range(len(string)):\n",
    "    if string[i] == \" \":\n",
    "        continue\n",
    "    else:\n",
    "        if ord(string[i]) in ord_list:\n",
    "            if string[i] not in dictionary[\"Vowel\"]:\n",
    "                dictionary[\"Vowel\"] += string[i]\n",
    "        elif string[i] not in dictionary[\"Consonant\"]:\n",
    "                dictionary[\"Consonant\"] += string[i]\n",
    "\n",
    "print(dictionary)"
   ]
  },
  {
   "cell_type": "code",
   "execution_count": null,
   "metadata": {},
   "outputs": [],
   "source": []
  }
 ],
 "metadata": {
  "kernelspec": {
   "display_name": "Python 3",
   "language": "python",
   "name": "python3"
  },
  "language_info": {
   "codemirror_mode": {
    "name": "ipython",
    "version": 3
   },
   "file_extension": ".py",
   "mimetype": "text/x-python",
   "name": "python",
   "nbconvert_exporter": "python",
   "pygments_lexer": "ipython3",
   "version": "3.7.6"
  }
 },
 "nbformat": 4,
 "nbformat_minor": 4
}
