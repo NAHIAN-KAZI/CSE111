{
 "cells": [
  {
   "cell_type": "code",
   "execution_count": 1,
   "metadata": {},
   "outputs": [
    {
     "name": "stdout",
     "output_type": "stream",
     "text": [
      "Let's Calculate!\n",
      "Value1:30\n",
      "Operator:/\n",
      "Value2:6\n",
      "Result: 5.0\n"
     ]
    }
   ],
   "source": [
    "#TASK 1\n",
    "class Calculator:\n",
    "    def __init__(self):\n",
    "        self.value1 = None\n",
    "        self.operator = None\n",
    "        self.value2 = None\n",
    "    def add(self):\n",
    "        return(self.value1 + self.value2)\n",
    "    def subtract(self):\n",
    "        return(self.value1 - self.value2)\n",
    "    def multiply(self):\n",
    "        return(self.value1 * self.value2)\n",
    "    def divide(self):\n",
    "        return(self.value1 / self.value2)\n",
    "print(\"Let's Calculate!\")\n",
    "\n",
    "value1 = int(input(\"Value1:\"))\n",
    "operator = input(\"Operator:\")\n",
    "value2 = int(input(\"Value2:\"))\n",
    "\n",
    "calculate  = Calculator()\n",
    "calculate.value1 = value1\n",
    "calculate.operator = operator\n",
    "calculate.value2 = value2\n",
    "\n",
    "if calculate.operator == '+':\n",
    "    print(\"Result:\",calculate.add())\n",
    "if calculate.operator == '-':\n",
    "    print(\"Result:\",calculate.subtract())\n",
    "if calculate.operator == '*':\n",
    "    print(\"Result:\",calculate.multiply())\n",
    "if calculate.operator == '/':\n",
    "    print(\"Result:\",calculate.divide())"
   ]
  },
  {
   "cell_type": "code",
   "execution_count": 2,
   "metadata": {},
   "outputs": [
    {
     "name": "stdout",
     "output_type": "stream",
     "text": [
      "Hello!\n",
      "Sam ,you have purchased 3 item(s)\n",
      "chips\n",
      "chocolate\n",
      "orange juice\n",
      "-----------------------------\n",
      "Hello! David !\n",
      "David ,you have purchased 1 item(s)\n",
      "orange juice\n"
     ]
    }
   ],
   "source": [
    "#TASK 2\n",
    "class Customer:\n",
    "    def __init__(self,name):\n",
    "        self.name=name\n",
    "    def greet(self,customer=\"\"):\n",
    "        if customer == \"\":\n",
    "            print(\"Hello!\")\n",
    "        else:\n",
    "            print(\"Hello!\", customer ,\"!\")\n",
    "    def purchase(self,*item):\n",
    "        print(self.name,\",you have purchased\",len(item),\"item(s)\")\n",
    "        for i in item:\n",
    "            print(i)\n",
    "customer_1 = Customer(\"Sam\")\n",
    "customer_1.greet()\n",
    "customer_1.purchase(\"chips\", \"chocolate\", \"orange juice\")\n",
    "print(\"-----------------------------\")\n",
    "customer_2 = Customer(\"David\")\n",
    "customer_2.greet(\"David\")\n",
    "customer_2.purchase(\"orange juice\") "
   ]
  },
  {
   "cell_type": "code",
   "execution_count": 1,
   "metadata": {},
   "outputs": [
    {
     "name": "stdout",
     "output_type": "stream",
     "text": [
      "Kunfu is a Male Panda Bear who is 5 years old\n",
      "Pan Pan is a Female Panda Bear who is 3 years old\n",
      "Ming Ming is a Female Panda Bear who is 8 years old\n",
      "Pan Pan sleeps 10 hours daily and should have Broccoli Chicken\n",
      "Kunfu sleeps 4 hours daily and should have Mixed Veggies\n",
      "Ming Ming sleeps 0 hours daily and should have Bamboo leaves\n"
     ]
    }
   ],
   "source": [
    "#TASK 3\n",
    "class Panda:\n",
    "    def __init__(self,name,gender,age):\n",
    "        self.name = name\n",
    "        self.gender = gender\n",
    "        self.age = age\n",
    "    def sleep(self,hour = 0):\n",
    "        if hour>= 3 and hour<= 5:\n",
    "            return self.name+\" sleeps \"+str(hour)+\" hours daily and should have Mixed Veggies\"\n",
    "        elif hour>=6 and hour<=8:\n",
    "            return self.name+\" sleeps \"+str(hour)+\" hours daily and should have Eggplant & Tofu\"\n",
    "        elif hour>=9 and hour<=11:\n",
    "            return self.name+\" sleeps \"+str(hour)+\" hours daily and should have Broccoli Chicken\"\n",
    "        else:\n",
    "            return self.name+\" sleeps \"+str(hour)+\" hours daily and should have Bamboo leaves\"\n",
    "        \n",
    "panda1 = Panda(\"Kunfu\",\"Male\", 5)\n",
    "panda2=Panda(\"Pan Pan\",\"Female\",3)\n",
    "panda3=Panda(\"Ming Ming\",\"Female\",8)\n",
    "print(\"{} is a {} Panda Bear who is {} years old\".format(panda1.name,panda1.gender,panda1.age))\n",
    "print(\"{} is a {} Panda Bear who is {} years old\".format(panda2.name,panda2.gender,panda2.age))\n",
    "print(\"{} is a {} Panda Bear who is {} years old\".format(panda3.name,panda3.gender,panda3.age))\n",
    "\n",
    "print(panda2.sleep(10))\n",
    "print(panda1.sleep(4))\n",
    "print(panda3.sleep())"
   ]
  },
  {
   "cell_type": "code",
   "execution_count": 9,
   "metadata": {},
   "outputs": [
    {
     "name": "stdout",
     "output_type": "stream",
     "text": [
      "White cat is sitting\n",
      "Black cat is sitting\n",
      "Brown cat is jumping\n",
      "Red cat is purring\n",
      "Blue cat is sitting\n",
      "Purple cat is jumping\n"
     ]
    }
   ],
   "source": [
    "#TASK 4\n",
    "class Cat:\n",
    "    def __init__(self,color=None,action=None):\n",
    "        self.color = color\n",
    "        self.action = action\n",
    "        if color == None:\n",
    "            self.color = \"White\"\n",
    "        if action == None:\n",
    "            self.action = \"sitting\"\n",
    "    def printCat(self):\n",
    "        print(self.color,'cat is',self.action)\n",
    "    def changeColor(self,color):\n",
    "        self.color = color\n",
    "c1 = Cat()\n",
    "c2 = Cat(\"Black\")\n",
    "c3 = Cat(\"Brown\", \"jumping\")\n",
    "c4 = Cat(\"Red\", \"purring\")\n",
    "c1.printCat()\n",
    "c2.printCat()\n",
    "c3.printCat()\n",
    "c4.printCat()\n",
    "c1.changeColor(\"Blue\")\n",
    "c3.changeColor(\"Purple\")\n",
    "c1.printCat()\n",
    "c3.printCat()"
   ]
  },
  {
   "cell_type": "code",
   "execution_count": 3,
   "metadata": {},
   "outputs": [
    {
     "name": "stdout",
     "output_type": "stream",
     "text": [
      "(0, 0)\n",
      "(0, 1)\n",
      "(-1, 1)\n",
      "(-1, 0)\n"
     ]
    }
   ],
   "source": [
    "#TASK 5\n",
    "class Vehicle:\n",
    "    def __init__(self,x=0,y=0):\n",
    "        self.x = x\n",
    "        self.y = y\n",
    "    def moveUp(self):\n",
    "        self.y += 1\n",
    "    def moveDown(self):\n",
    "        self.y -= 1\n",
    "    def moveRight(self):\n",
    "        self.x += 1\n",
    "    def moveLeft(self):\n",
    "        self.x -= 1\n",
    "    def print_position(self):\n",
    "        print((self.x,self.y))\n",
    "    \n",
    "car = Vehicle()\n",
    "car.print_position()\n",
    "car.moveUp()\n",
    "car.print_position()\n",
    "car.moveLeft()\n",
    "car.print_position()\n",
    "car.moveDown()\n",
    "car.print_position()\n",
    "car.moveRight()"
   ]
  },
  {
   "cell_type": "code",
   "execution_count": 4,
   "metadata": {},
   "outputs": [
    {
     "name": "stdout",
     "output_type": "stream",
     "text": [
      "Horray! A new programmer is born\n",
      "Name:  Ethen Hunt\n",
      "Language:  Java\n",
      "Experience:  10 years\n",
      "--------------------------\n",
      "Horray! A new programmer is born\n",
      "Name:  James Bond\n",
      "Language:  C++\n",
      "Experience:  7 years\n",
      "--------------------------\n",
      "Horray! A new programmer is born\n",
      "Name:  Jon Snow\n",
      "Language:  Python\n",
      "Experience:  4 years\n",
      "Updating experience of Jon Snow\n",
      "Horray! A new programmer is born\n",
      "Name:  Jon Snow\n",
      "Language:  Python\n",
      "Experience:  9 years\n"
     ]
    }
   ],
   "source": [
    "#TASK 6\n",
    "class Programmer:\n",
    "    def __init__(self,name,language,experience):\n",
    "        self.name = name\n",
    "        self.language = language\n",
    "        self.experience = experience\n",
    "    def addExp(self,years):\n",
    "        print(\"Updating experience of\",self.name)\n",
    "        \n",
    "        self.experience += years\n",
    "    def printDetails(self):\n",
    "        print(\"Horray! A new programmer is born\")\n",
    "        print(\"Name: \",self.name)\n",
    "        print(\"Language: \",self.language)\n",
    "        print(\"Experience: \",self.experience,\"years\")\n",
    "\n",
    "p1 = Programmer(\"Ethen Hunt\", \"Java\", 10)\n",
    "p1.printDetails()\n",
    "print('--------------------------')\n",
    "p2 = Programmer(\"James Bond\", \"C++\", 7)\n",
    "p2.printDetails()\n",
    "print('--------------------------')\n",
    "p3 = Programmer(\"Jon Snow\", \"Python\", 4)\n",
    "p3.printDetails()\n",
    "p3.addExp(5)\n",
    "p3.printDetails()"
   ]
  },
  {
   "cell_type": "code",
   "execution_count": 5,
   "metadata": {},
   "outputs": [
    {
     "name": "stdout",
     "output_type": "stream",
     "text": [
      "Name: Harry Potter\n",
      "ID: 123\n",
      "Department: CSE\n",
      "Daily Effort: 3 hour(s)\n",
      "Suggestion Keep up the good work!\n",
      "========================\n",
      "Name: John Wick\n",
      "ID: 456\n",
      "Department: BBA\n",
      "Daily Effort: 2 hour(s)\n",
      "Suggestion Should give more effort\n",
      "========================\n",
      "Name: Naruto Uzumaki\n",
      "ID: 777\n",
      "Department: Ninja\n",
      "Daily Effort: 6 hour(s)\n",
      "Suggestion Excellent! Now motivate others\n"
     ]
    }
   ],
   "source": [
    "#TASK 7\n",
    "class Student:\n",
    "    def __init__(self, name=None, Id=None, dep=None):\n",
    "        self.name = name\n",
    "        self.id = Id\n",
    "        self.dep = dep\n",
    "        if dep == None:\n",
    "            self.dep = \"CSE\"\n",
    "\n",
    "    def dailyEffort(self,hours):\n",
    "        self.hours=hours\n",
    "        if self.hours <= 2:\n",
    "            suggestion=\"Should give more effort\"\n",
    "        elif self.hours <= 4:\n",
    "            suggestion=\"Keep up the good work!\"\n",
    "        else:\n",
    "            suggestion=\"Excellent! Now motivate others\"\n",
    "        self.suggestion=suggestion\n",
    "    def printDetails(self):\n",
    "        print(\"Name:\", self.name)\n",
    "        print(\"ID:\", self.id)\n",
    "        print(\"Department:\", self.dep)\n",
    "        print(\"Daily Effort:\", self.hours, \"hour(s)\")\n",
    "        print(\"Suggestion\", self.suggestion)\n",
    "harry = Student('Harry Potter', 123)\n",
    "harry.dailyEffort(3)\n",
    "harry.printDetails()\n",
    "print('========================')\n",
    "john = Student(\"John Wick\", 456, \"BBA\")\n",
    "john.dailyEffort(2)\n",
    "john.printDetails()\n",
    "print('========================')\n",
    "naruto = Student(\"Naruto Uzumaki\", 777, \"Ninja\")\n",
    "naruto.dailyEffort(6)\n",
    "naruto.printDetails()"
   ]
  },
  {
   "cell_type": "code",
   "execution_count": 6,
   "metadata": {},
   "outputs": [
    {
     "name": "stdout",
     "output_type": "stream",
     "text": [
      "=========================\n",
      "Name:  Thomas\n",
      "Age:  23\n",
      "Symptoms: Headache\n",
      "=========================\n",
      "Name:  Carol\n",
      "Age:  20\n",
      "Symptoms: Vomiting,Coughing\n",
      "=========================\n",
      "Name:  Mike\n",
      "Age:  25\n",
      "Symptoms: Fever,Headache,Coughing\n",
      "=========================\n"
     ]
    }
   ],
   "source": [
    "#TASK 8\n",
    "class Patient:\n",
    "    def __init__(self,name,age):\n",
    "        self.name=name\n",
    "        self.age=age\n",
    "    def add_Symptom(self,*problem):\n",
    "        self.problem=problem\n",
    "    def printPatientDetail(self):\n",
    "        print(\"Name: \",self.name)\n",
    "        print(\"Age: \",self.age)\n",
    "        print(\"Symptoms: \",end=\"\")\n",
    "        symp=\"\"\n",
    "        for i in self.problem:\n",
    "            symp += i+\",\"\n",
    "        print(symp[0:-1])\n",
    "p1 = Patient(\"Thomas\", 23)\n",
    "p1.add_Symptom(\"Headache\")\n",
    "p2 = Patient(\"Carol\", 20)\n",
    "p2.add_Symptom(\"Vomiting\", \"Coughing\")\n",
    "p3 = Patient(\"Mike\", 25)\n",
    "p3.add_Symptom(\"Fever\", \"Headache\", \"Coughing\")\n",
    "print(\"=========================\")\n",
    "p1.printPatientDetail()\n",
    "print(\"=========================\")\n",
    "p2.printPatientDetail()\n",
    "print(\"=========================\")\n",
    "p3.printPatientDetail()\n",
    "print(\"=========================\")"
   ]
  },
  {
   "cell_type": "code",
   "execution_count": 7,
   "metadata": {},
   "outputs": [
    {
     "name": "stdout",
     "output_type": "stream",
     "text": [
      "=========================\n",
      "Name:  Captain America\n",
      "Partner:  Bucky Barnes\n",
      "Super powers:  Stamina,Slowed ageing\n",
      "=========================\n",
      "Name:  Doctor Strange\n",
      "Partner:  Ancient One\n",
      "Super powers:  Mastery of magic\n",
      "=========================\n",
      "Name:  Iron Man\n",
      "Partner:  War Machine\n",
      "Super powers:  Genius level intellect,Scientist \n",
      "=========================\n"
     ]
    }
   ],
   "source": [
    "#TASK 9\n",
    "class Avengers:\n",
    "    def __init__(self,name,partner):\n",
    "        self.name=name\n",
    "        self.partner=partner\n",
    "    def super_powers(self,*power):\n",
    "        self.po=power\n",
    "    def printAvengersDetail(self):\n",
    "        string=\"\"\n",
    "        for x in self.po:\n",
    "            string+=x+\",\"\n",
    "\n",
    "        print(\"Name: \",self.name)\n",
    "        print(\"Partner: \",self.partner)\n",
    "        print(\"Super powers: \",string[0:-1])\n",
    "a1 = Avengers('Captain America', 'Bucky Barnes')\n",
    "a1.super_powers('Stamina', 'Slowed ageing')\n",
    "a2 = Avengers('Doctor Strange', 'Ancient One')\n",
    "a2.super_powers('Mastery of magic')\n",
    "a3 = Avengers('Iron Man', 'War Machine')\n",
    "a3.super_powers('Genius level intellect', 'Scientist ')\n",
    "print(\"=========================\")\n",
    "a1.printAvengersDetail()\n",
    "print(\"=========================\")\n",
    "a2.printAvengersDetail()\n",
    "print(\"=========================\")\n",
    "a3.printAvengersDetail()\n",
    "print(\"=========================\")"
   ]
  },
  {
   "cell_type": "code",
   "execution_count": 8,
   "metadata": {},
   "outputs": [
    {
     "name": "stdout",
     "output_type": "stream",
     "text": [
      "Name: Naruto\n",
      "Rank: Genin\n",
      "Number of mission: 5\n",
      "Salary: 250\n",
      "====================\n",
      "Name: Shikamaru\n",
      "Rank: Genin\n",
      "Number of mission: 0\n",
      "Salary: 0\n",
      "Name: Shikamaru\n",
      "Rank: Chunin\n",
      "Number of mission: 10\n",
      "Salary: 1000\n",
      "====================\n",
      "Name: Neiji\n",
      "Rank: Jonin\n",
      "Number of mission: 5\n",
      "Salary: 2500\n"
     ]
    }
   ],
   "source": [
    "#TASK 10\n",
    "class Shinobi:\n",
    "    def __init__(self,name,rank):\n",
    "        self.name = name\n",
    "        self.rank = rank\n",
    "        self.salary = 0\n",
    "        self.mission = 0\n",
    "    def changeRank(self,changed_rank):\n",
    "        self.rank = changed_rank\n",
    "    def calSalary(self,mission):\n",
    "        self.mission = mission\n",
    "        if self.rank == \"Genin\":\n",
    "            self.salary = mission*50\n",
    "        if self.rank == \"Chunin\":\n",
    "            self.salary = mission*100\n",
    "        if self.rank == \"Jonin\":\n",
    "            self.salary = mission*500\n",
    "    def printInfo(self):\n",
    "        print(\"Name:\",self.name)\n",
    "        print(\"Rank:\",self.rank)\n",
    "        print(\"Number of mission:\",self.mission)\n",
    "        print(\"Salary:\",self.salary)\n",
    "naruto = Shinobi(\"Naruto\", \"Genin\")\n",
    "naruto.calSalary(5)\n",
    "naruto.printInfo()\n",
    "print('====================')\n",
    "shikamaru = Shinobi('Shikamaru', \"Genin\")\n",
    "shikamaru.printInfo()\n",
    "shikamaru.changeRank(\"Chunin\")\n",
    "shikamaru.calSalary(10)\n",
    "shikamaru.printInfo()\n",
    "print('====================')\n",
    "neiji = Shinobi(\"Neiji\", \"Jonin\")\n",
    "neiji.calSalary(5)\n",
    "neiji.printInfo()"
   ]
  },
  {
   "cell_type": "code",
   "execution_count": null,
   "metadata": {},
   "outputs": [],
   "source": []
  }
 ],
 "metadata": {
  "kernelspec": {
   "display_name": "Python 3",
   "language": "python",
   "name": "python3"
  },
  "language_info": {
   "codemirror_mode": {
    "name": "ipython",
    "version": 3
   },
   "file_extension": ".py",
   "mimetype": "text/x-python",
   "name": "python",
   "nbconvert_exporter": "python",
   "pygments_lexer": "ipython3",
   "version": "3.7.6"
  }
 },
 "nbformat": 4,
 "nbformat_minor": 4
}
