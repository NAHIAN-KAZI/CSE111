{
 "cells": [
  {
   "cell_type": "code",
   "execution_count": 1,
   "metadata": {},
   "outputs": [
    {
     "ename": "TypeError",
     "evalue": "__init__() missing 1 required positional argument: 'p'",
     "output_type": "error",
     "traceback": [
      "\u001b[1;31m---------------------------------------------------------------------------\u001b[0m",
      "\u001b[1;31mTypeError\u001b[0m                                 Traceback (most recent call last)",
      "\u001b[1;32m<ipython-input-1-8e61b87c5bf8>\u001b[0m in \u001b[0;36m<module>\u001b[1;34m\u001b[0m\n\u001b[0;32m     35\u001b[0m         \u001b[0mself\u001b[0m\u001b[1;33m.\u001b[0m\u001b[0mpokemon_weakness\u001b[0m \u001b[1;33m=\u001b[0m \u001b[1;34m\"Ground\"\u001b[0m\u001b[1;33m\u001b[0m\u001b[1;33m\u001b[0m\u001b[0m\n\u001b[0;32m     36\u001b[0m         \u001b[1;32mreturn\u001b[0m \u001b[0mself\u001b[0m\u001b[1;33m.\u001b[0m\u001b[0mpokemon_weakness\u001b[0m\u001b[1;33m\u001b[0m\u001b[1;33m\u001b[0m\u001b[0m\n\u001b[1;32m---> 37\u001b[1;33m \u001b[0mpk1\u001b[0m \u001b[1;33m=\u001b[0m \u001b[0mPikachu\u001b[0m\u001b[1;33m(\u001b[0m\u001b[1;33m)\u001b[0m\u001b[1;33m\u001b[0m\u001b[1;33m\u001b[0m\u001b[0m\n\u001b[0m\u001b[0;32m     38\u001b[0m \u001b[0mprint\u001b[0m\u001b[1;33m(\u001b[0m\u001b[1;34m\"Pokemon:\"\u001b[0m\u001b[1;33m,\u001b[0m \u001b[0mpk1\u001b[0m\u001b[1;33m.\u001b[0m\u001b[0mpokemon\u001b[0m\u001b[1;33m)\u001b[0m\u001b[1;33m\u001b[0m\u001b[1;33m\u001b[0m\u001b[0m\n\u001b[0;32m     39\u001b[0m \u001b[0mprint\u001b[0m\u001b[1;33m(\u001b[0m\u001b[1;34m\"Type:\"\u001b[0m\u001b[1;33m,\u001b[0m \u001b[0mpk1\u001b[0m\u001b[1;33m.\u001b[0m\u001b[0mkind\u001b[0m\u001b[1;33m(\u001b[0m\u001b[1;33m)\u001b[0m\u001b[1;33m)\u001b[0m\u001b[1;33m\u001b[0m\u001b[1;33m\u001b[0m\u001b[0m\n",
      "\u001b[1;31mTypeError\u001b[0m: __init__() missing 1 required positional argument: 'p'"
     ]
    }
   ],
   "source": [
    "class Pokemon:\n",
    "    def __init__(self, p):\n",
    "        self.pokemon = p\n",
    "        self.pokemon_type = \"Needs to be set\"\n",
    "        self.pokemon_weakness = \"Needs to be set\"\n",
    "    def kind(self):\n",
    "        return self.pokemon_type\n",
    "    def weakness(self):\n",
    "        return self.pokemon_weakness\n",
    "    def what_am_i(self):\n",
    "        print(\"I am a Pokemon.\")\n",
    "class Pikachu(Pokemon):\n",
    "    def __init__(self,p):\n",
    "        super().__init__(p)\n",
    "        print(\"I am Pikachu\")\n",
    "    def pokemon(self,p):\n",
    "        self.p = p\n",
    "        return self.p\n",
    "    def kind(self):\n",
    "        super().__init__(self.pokemon_type)\n",
    "        self.pokemon_type = \"Electric\"\n",
    "        return self.pokemon_type\n",
    "    def weakness(self):\n",
    "        super().__init__(self.pokemon_weakness)\n",
    "        self.pokemon_weakness = \"Ground\"\n",
    "        return self.pokemon_weakness\n",
    "class Charmander(Pokemon):\n",
    "    def __init__(self,name):\n",
    "        super().__init__(name)\n",
    "        print(\"I am Charmander\")\n",
    "    def kind(self):\n",
    "        self.pokemon_type = \"Electric\"\n",
    "        return self.pokemon_type\n",
    "    def weakness(self):\n",
    "        self.pokemon_weakness = \"Ground\"\n",
    "        return self.pokemon_weakness\n",
    "pk1 = Pikachu()\n",
    "print(\"Pokemon:\", pk1.pokemon)\n",
    "print(\"Type:\", pk1.kind())\n",
    "print(\"Weakness:\", pk1.weakness())\n",
    "pk1.what_am_i()\n",
    "print(\"========================\")\n",
    "c1 = Charmander()\n",
    "print(\"Pokemon:\", c1.pokemon)\n",
    "print(\"Type:\", c1.kind())\n",
    "print(\"Weakness:\", c1.weakness())\n",
    "c1.what_am_i()"
   ]
  },
  {
   "cell_type": "code",
   "execution_count": null,
   "metadata": {},
   "outputs": [],
   "source": []
  }
 ],
 "metadata": {
  "kernelspec": {
   "display_name": "Python 3",
   "language": "python",
   "name": "python3"
  },
  "language_info": {
   "codemirror_mode": {
    "name": "ipython",
    "version": 3
   },
   "file_extension": ".py",
   "mimetype": "text/x-python",
   "name": "python",
   "nbconvert_exporter": "python",
   "pygments_lexer": "ipython3",
   "version": "3.7.6"
  }
 },
 "nbformat": 4,
 "nbformat_minor": 4
}
